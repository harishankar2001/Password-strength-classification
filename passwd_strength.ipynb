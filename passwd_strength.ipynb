{
  "cells": [
    {
      "cell_type": "code",
      "execution_count": null,
      "metadata": {
        "id": "oz6UEmkY6pRe"
      },
      "outputs": [],
      "source": [
        "import numpy as np\n",
        "import random\n",
        "from sklearn.feature_extraction.text import TfidfVectorizer\n",
        "import pandas as pd\n",
        "from sklearn.model_selection import train_test_split\n",
        "from sklearn.linear_model import LogisticRegression"
      ]
    },
    {
      "cell_type": "code",
      "execution_count": null,
      "metadata": {
        "id": "MOBsKkOu74F_"
      },
      "outputs": [],
      "source": [
        "def getTokens(inputString): #custom tokenizer. ours tokens are characters rather than full words\n",
        "\ttokens = []\n",
        "\tfor i in inputString:\n",
        "\t\ttokens.append(i)\n",
        "\treturn tokens"
      ]
    },
    {
      "cell_type": "code",
      "execution_count": null,
      "metadata": {
        "id": "4zpgF6Iu8UFP"
      },
      "outputs": [],
      "source": [
        "data = pd.read_csv(\"/content/password_strength_classification_data.csv\",',',error_bad_lines=False)\n",
        "\n",
        "data = pd.DataFrame(data)\n",
        "passwords = np.array(data)"
      ]
    },
    {
      "cell_type": "code",
      "execution_count": null,
      "metadata": {
        "id": "1ADwxsxL8byH"
      },
      "outputs": [],
      "source": [
        "random.shuffle(passwords) #shuffling randomly for robustness\n",
        "y = [d[1] for d in passwords] #labels\n",
        "allpasswords= [d[0] for d in passwords] #actual passwords\n",
        "\n",
        "vectorizer = TfidfVectorizer(tokenizer=getTokens) #vectorizing"
      ]
    },
    {
      "cell_type": "code",
      "execution_count": null,
      "metadata": {
        "id": "F9Zc2AU18isX"
      },
      "outputs": [],
      "source": [
        "X = vectorizer.fit_transform(allpasswords)\n",
        " \n",
        "X_train, X_test, y_train, y_test = train_test_split(X, y, test_size=0.20, random_state=42)  #splitting"
      ]
    },
    {
      "cell_type": "code",
      "execution_count": null,
      "metadata": {
        "id": "deuWMBh58mU3"
      },
      "outputs": [],
      "source": [
        "lgs = LogisticRegression(penalty='l2',multi_class='ovr')  \n",
        "lgs.fit(X_train, y_train) \n",
        "print(lgs.score(X_test, y_test))"
      ]
    },
    {
      "cell_type": "code",
      "source": [
        "X_predict = [\"hari\",'hari123','1121233','dhfjf###5','sjdhgfjhg543543','dfduwh@#@&','12345','abcde']\n",
        "X_predict = vectorizer.transform(X_predict)\n",
        "y_predict = lgs.predict(X_predict)\n",
        "print(y_predict)"
      ],
      "metadata": {
        "colab": {
          "base_uri": "https://localhost:8080/"
        },
        "id": "u4mAVuCG4Ley",
        "outputId": "59857a1c-6438-41a5-b466-18aaed2b6a22"
      },
      "execution_count": null,
      "outputs": [
        {
          "output_type": "stream",
          "name": "stdout",
          "text": [
            "[0 1 1 0 1 2 1 0]\n"
          ]
        }
      ]
    }
  ],
  "metadata": {
    "colab": {
      "provenance": [],
      "authorship_tag": "ABX9TyN73lYgDZ1Y+THwSmmoMF4B"
    },
    "kernelspec": {
      "display_name": "Python 3",
      "name": "python3"
    },
    "language_info": {
      "name": "python"
    }
  },
  "nbformat": 4,
  "nbformat_minor": 0
}